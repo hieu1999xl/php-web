{
 "cells": [
  {
   "cell_type": "code",
   "execution_count": 1,
   "id": "98ad960f",
   "metadata": {},
   "outputs": [],
   "source": [
    "import pandas as pd\n",
    "import numpy as np\n",
    "import time"
   ]
  },
  {
   "cell_type": "code",
   "execution_count": 2,
   "id": "e0b22776",
   "metadata": {},
   "outputs": [
    {
     "ename": "FileNotFoundError",
     "evalue": "[Errno 2] No such file or directory: '/home/minh/Downloads/new_deployment_master.csv'",
     "output_type": "error",
     "traceback": [
      "\u001b[1;31m---------------------------------------------------------------------------\u001b[0m",
      "\u001b[1;31mFileNotFoundError\u001b[0m                         Traceback (most recent call last)",
      "\u001b[1;32m~\\AppData\\Local\\Temp\\ipykernel_12772\\288228942.py\u001b[0m in \u001b[0;36m<module>\u001b[1;34m\u001b[0m\n\u001b[0;32m      1\u001b[0m \u001b[1;31m# Remove duplicate theo cột Location và genericCode\u001b[0m\u001b[1;33m\u001b[0m\u001b[1;33m\u001b[0m\u001b[0m\n\u001b[1;32m----> 2\u001b[1;33m \u001b[0mdeployment_master_df\u001b[0m \u001b[1;33m=\u001b[0m \u001b[0mpd\u001b[0m\u001b[1;33m.\u001b[0m\u001b[0mread_csv\u001b[0m\u001b[1;33m(\u001b[0m\u001b[1;34m'/home/minh/Downloads/new_deployment_master.csv'\u001b[0m\u001b[1;33m)\u001b[0m\u001b[1;33m\u001b[0m\u001b[1;33m\u001b[0m\u001b[0m\n\u001b[0m\u001b[0;32m      3\u001b[0m \u001b[0mduplicates_deployment_master\u001b[0m \u001b[1;33m=\u001b[0m \u001b[0mdeployment_master_df\u001b[0m\u001b[1;33m.\u001b[0m\u001b[0mdrop_duplicates\u001b[0m\u001b[1;33m(\u001b[0m\u001b[0msubset\u001b[0m\u001b[1;33m=\u001b[0m\u001b[1;33m[\u001b[0m\u001b[1;34m'Location Code'\u001b[0m\u001b[1;33m,\u001b[0m\u001b[1;34m'Generic Code'\u001b[0m\u001b[1;33m]\u001b[0m\u001b[1;33m,\u001b[0m \u001b[0mkeep\u001b[0m\u001b[1;33m=\u001b[0m\u001b[1;34m'last'\u001b[0m\u001b[1;33m)\u001b[0m\u001b[1;33m\u001b[0m\u001b[1;33m\u001b[0m\u001b[0m\n\u001b[0;32m      4\u001b[0m \u001b[0mduplicates_deployment_master\u001b[0m \u001b[1;33m=\u001b[0m \u001b[0mduplicates_deployment_master\u001b[0m\u001b[1;33m.\u001b[0m\u001b[0msort_values\u001b[0m\u001b[1;33m(\u001b[0m\u001b[0mby\u001b[0m\u001b[1;33m=\u001b[0m\u001b[1;33m[\u001b[0m\u001b[1;34m'Generic Code'\u001b[0m\u001b[1;33m,\u001b[0m\u001b[1;34m'Location Code'\u001b[0m\u001b[1;33m]\u001b[0m \u001b[1;33m)\u001b[0m\u001b[1;33m\u001b[0m\u001b[1;33m\u001b[0m\u001b[0m\n\u001b[0;32m      5\u001b[0m \u001b[0mduplicates_deployment_master\u001b[0m\u001b[1;33m\u001b[0m\u001b[1;33m\u001b[0m\u001b[0m\n",
      "\u001b[1;32m~\\Anaconda3\\lib\\site-packages\\pandas\\util\\_decorators.py\u001b[0m in \u001b[0;36mwrapper\u001b[1;34m(*args, **kwargs)\u001b[0m\n\u001b[0;32m    309\u001b[0m                     \u001b[0mstacklevel\u001b[0m\u001b[1;33m=\u001b[0m\u001b[0mstacklevel\u001b[0m\u001b[1;33m,\u001b[0m\u001b[1;33m\u001b[0m\u001b[1;33m\u001b[0m\u001b[0m\n\u001b[0;32m    310\u001b[0m                 )\n\u001b[1;32m--> 311\u001b[1;33m             \u001b[1;32mreturn\u001b[0m \u001b[0mfunc\u001b[0m\u001b[1;33m(\u001b[0m\u001b[1;33m*\u001b[0m\u001b[0margs\u001b[0m\u001b[1;33m,\u001b[0m \u001b[1;33m**\u001b[0m\u001b[0mkwargs\u001b[0m\u001b[1;33m)\u001b[0m\u001b[1;33m\u001b[0m\u001b[1;33m\u001b[0m\u001b[0m\n\u001b[0m\u001b[0;32m    312\u001b[0m \u001b[1;33m\u001b[0m\u001b[0m\n\u001b[0;32m    313\u001b[0m         \u001b[1;32mreturn\u001b[0m \u001b[0mwrapper\u001b[0m\u001b[1;33m\u001b[0m\u001b[1;33m\u001b[0m\u001b[0m\n",
      "\u001b[1;32m~\\Anaconda3\\lib\\site-packages\\pandas\\io\\parsers\\readers.py\u001b[0m in \u001b[0;36mread_csv\u001b[1;34m(filepath_or_buffer, sep, delimiter, header, names, index_col, usecols, squeeze, prefix, mangle_dupe_cols, dtype, engine, converters, true_values, false_values, skipinitialspace, skiprows, skipfooter, nrows, na_values, keep_default_na, na_filter, verbose, skip_blank_lines, parse_dates, infer_datetime_format, keep_date_col, date_parser, dayfirst, cache_dates, iterator, chunksize, compression, thousands, decimal, lineterminator, quotechar, quoting, doublequote, escapechar, comment, encoding, encoding_errors, dialect, error_bad_lines, warn_bad_lines, on_bad_lines, delim_whitespace, low_memory, memory_map, float_precision, storage_options)\u001b[0m\n\u001b[0;32m    676\u001b[0m     \u001b[0mkwds\u001b[0m\u001b[1;33m.\u001b[0m\u001b[0mupdate\u001b[0m\u001b[1;33m(\u001b[0m\u001b[0mkwds_defaults\u001b[0m\u001b[1;33m)\u001b[0m\u001b[1;33m\u001b[0m\u001b[1;33m\u001b[0m\u001b[0m\n\u001b[0;32m    677\u001b[0m \u001b[1;33m\u001b[0m\u001b[0m\n\u001b[1;32m--> 678\u001b[1;33m     \u001b[1;32mreturn\u001b[0m \u001b[0m_read\u001b[0m\u001b[1;33m(\u001b[0m\u001b[0mfilepath_or_buffer\u001b[0m\u001b[1;33m,\u001b[0m \u001b[0mkwds\u001b[0m\u001b[1;33m)\u001b[0m\u001b[1;33m\u001b[0m\u001b[1;33m\u001b[0m\u001b[0m\n\u001b[0m\u001b[0;32m    679\u001b[0m \u001b[1;33m\u001b[0m\u001b[0m\n\u001b[0;32m    680\u001b[0m \u001b[1;33m\u001b[0m\u001b[0m\n",
      "\u001b[1;32m~\\Anaconda3\\lib\\site-packages\\pandas\\io\\parsers\\readers.py\u001b[0m in \u001b[0;36m_read\u001b[1;34m(filepath_or_buffer, kwds)\u001b[0m\n\u001b[0;32m    573\u001b[0m \u001b[1;33m\u001b[0m\u001b[0m\n\u001b[0;32m    574\u001b[0m     \u001b[1;31m# Create the parser.\u001b[0m\u001b[1;33m\u001b[0m\u001b[1;33m\u001b[0m\u001b[0m\n\u001b[1;32m--> 575\u001b[1;33m     \u001b[0mparser\u001b[0m \u001b[1;33m=\u001b[0m \u001b[0mTextFileReader\u001b[0m\u001b[1;33m(\u001b[0m\u001b[0mfilepath_or_buffer\u001b[0m\u001b[1;33m,\u001b[0m \u001b[1;33m**\u001b[0m\u001b[0mkwds\u001b[0m\u001b[1;33m)\u001b[0m\u001b[1;33m\u001b[0m\u001b[1;33m\u001b[0m\u001b[0m\n\u001b[0m\u001b[0;32m    576\u001b[0m \u001b[1;33m\u001b[0m\u001b[0m\n\u001b[0;32m    577\u001b[0m     \u001b[1;32mif\u001b[0m \u001b[0mchunksize\u001b[0m \u001b[1;32mor\u001b[0m \u001b[0miterator\u001b[0m\u001b[1;33m:\u001b[0m\u001b[1;33m\u001b[0m\u001b[1;33m\u001b[0m\u001b[0m\n",
      "\u001b[1;32m~\\Anaconda3\\lib\\site-packages\\pandas\\io\\parsers\\readers.py\u001b[0m in \u001b[0;36m__init__\u001b[1;34m(self, f, engine, **kwds)\u001b[0m\n\u001b[0;32m    930\u001b[0m \u001b[1;33m\u001b[0m\u001b[0m\n\u001b[0;32m    931\u001b[0m         \u001b[0mself\u001b[0m\u001b[1;33m.\u001b[0m\u001b[0mhandles\u001b[0m\u001b[1;33m:\u001b[0m \u001b[0mIOHandles\u001b[0m \u001b[1;33m|\u001b[0m \u001b[1;32mNone\u001b[0m \u001b[1;33m=\u001b[0m \u001b[1;32mNone\u001b[0m\u001b[1;33m\u001b[0m\u001b[1;33m\u001b[0m\u001b[0m\n\u001b[1;32m--> 932\u001b[1;33m         \u001b[0mself\u001b[0m\u001b[1;33m.\u001b[0m\u001b[0m_engine\u001b[0m \u001b[1;33m=\u001b[0m \u001b[0mself\u001b[0m\u001b[1;33m.\u001b[0m\u001b[0m_make_engine\u001b[0m\u001b[1;33m(\u001b[0m\u001b[0mf\u001b[0m\u001b[1;33m,\u001b[0m \u001b[0mself\u001b[0m\u001b[1;33m.\u001b[0m\u001b[0mengine\u001b[0m\u001b[1;33m)\u001b[0m\u001b[1;33m\u001b[0m\u001b[1;33m\u001b[0m\u001b[0m\n\u001b[0m\u001b[0;32m    933\u001b[0m \u001b[1;33m\u001b[0m\u001b[0m\n\u001b[0;32m    934\u001b[0m     \u001b[1;32mdef\u001b[0m \u001b[0mclose\u001b[0m\u001b[1;33m(\u001b[0m\u001b[0mself\u001b[0m\u001b[1;33m)\u001b[0m\u001b[1;33m:\u001b[0m\u001b[1;33m\u001b[0m\u001b[1;33m\u001b[0m\u001b[0m\n",
      "\u001b[1;32m~\\Anaconda3\\lib\\site-packages\\pandas\\io\\parsers\\readers.py\u001b[0m in \u001b[0;36m_make_engine\u001b[1;34m(self, f, engine)\u001b[0m\n\u001b[0;32m   1214\u001b[0m             \u001b[1;31m# \"Union[str, PathLike[str], ReadCsvBuffer[bytes], ReadCsvBuffer[str]]\"\u001b[0m\u001b[1;33m\u001b[0m\u001b[1;33m\u001b[0m\u001b[0m\n\u001b[0;32m   1215\u001b[0m             \u001b[1;31m# , \"str\", \"bool\", \"Any\", \"Any\", \"Any\", \"Any\", \"Any\"\u001b[0m\u001b[1;33m\u001b[0m\u001b[1;33m\u001b[0m\u001b[0m\n\u001b[1;32m-> 1216\u001b[1;33m             self.handles = get_handle(  # type: ignore[call-overload]\n\u001b[0m\u001b[0;32m   1217\u001b[0m                 \u001b[0mf\u001b[0m\u001b[1;33m,\u001b[0m\u001b[1;33m\u001b[0m\u001b[1;33m\u001b[0m\u001b[0m\n\u001b[0;32m   1218\u001b[0m                 \u001b[0mmode\u001b[0m\u001b[1;33m,\u001b[0m\u001b[1;33m\u001b[0m\u001b[1;33m\u001b[0m\u001b[0m\n",
      "\u001b[1;32m~\\Anaconda3\\lib\\site-packages\\pandas\\io\\common.py\u001b[0m in \u001b[0;36mget_handle\u001b[1;34m(path_or_buf, mode, encoding, compression, memory_map, is_text, errors, storage_options)\u001b[0m\n\u001b[0;32m    784\u001b[0m         \u001b[1;32mif\u001b[0m \u001b[0mioargs\u001b[0m\u001b[1;33m.\u001b[0m\u001b[0mencoding\u001b[0m \u001b[1;32mand\u001b[0m \u001b[1;34m\"b\"\u001b[0m \u001b[1;32mnot\u001b[0m \u001b[1;32min\u001b[0m \u001b[0mioargs\u001b[0m\u001b[1;33m.\u001b[0m\u001b[0mmode\u001b[0m\u001b[1;33m:\u001b[0m\u001b[1;33m\u001b[0m\u001b[1;33m\u001b[0m\u001b[0m\n\u001b[0;32m    785\u001b[0m             \u001b[1;31m# Encoding\u001b[0m\u001b[1;33m\u001b[0m\u001b[1;33m\u001b[0m\u001b[0m\n\u001b[1;32m--> 786\u001b[1;33m             handle = open(\n\u001b[0m\u001b[0;32m    787\u001b[0m                 \u001b[0mhandle\u001b[0m\u001b[1;33m,\u001b[0m\u001b[1;33m\u001b[0m\u001b[1;33m\u001b[0m\u001b[0m\n\u001b[0;32m    788\u001b[0m                 \u001b[0mioargs\u001b[0m\u001b[1;33m.\u001b[0m\u001b[0mmode\u001b[0m\u001b[1;33m,\u001b[0m\u001b[1;33m\u001b[0m\u001b[1;33m\u001b[0m\u001b[0m\n",
      "\u001b[1;31mFileNotFoundError\u001b[0m: [Errno 2] No such file or directory: '/home/minh/Downloads/new_deployment_master.csv'"
     ]
    }
   ],
   "source": [
    "# Remove duplicate theo cột Location và genericCode\n",
    "deployment_master_df = pd.read_csv('new_deployment_master.csv')\n",
    "duplicates_deployment_master = deployment_master_df.drop_duplicates(subset=['Location Code','Generic Code'], keep='last')\n",
    "duplicates_deployment_master = duplicates_deployment_master.sort_values(by=['Generic Code','Location Code'] )\n",
    "duplicates_deployment_master\n"
   ]
  },
  {
   "cell_type": "code",
   "execution_count": null,
   "id": "4e93aa90",
   "metadata": {},
   "outputs": [],
   "source": [
    "# nhặt các giá trị genericCode unique theo Location vào bảng genericCode_ROSn\n",
    "\n",
    "genericCode_ROSn = pd.DataFrame()\n",
    "genericCode_ROSn['Location Code'] = duplicates_deployment_master['Location Code']\n",
    "genericCode_ROSn['Generic Code'] = duplicates_deployment_master['Generic Code']\n",
    "genericCode_ROSn = genericCode_ROSn.reset_index(drop=True)\n",
    "genericCode_ROSn\n"
   ]
  },
  {
   "cell_type": "code",
   "execution_count": null,
   "id": "7bab8fe5",
   "metadata": {},
   "outputs": [],
   "source": [
    "# /home/minh/python_scripts/python-scripts/public/csv\n",
    "\n",
    "# Từ giá trị Generic code, lookup trong file master data ra giá trị Brand, sub brand, category,\n",
    "# sau đó look up các giá trị đó tìm ra giá trị của cột Min Pivotal Size trong file Pivotal Size\n",
    "\n",
    "master_data_df = pd.read_csv('/home/minh/python_scripts/python-scripts/public/csv/clean_data_masterData.csv')\n",
    "\n",
    "\n",
    "# đổi tên column\n",
    "master_data_df.columns = master_data_df.columns.str.replace('Cross-plant CM', 'Generic Code')\n",
    "\n",
    "\n",
    "# gộp bảng genericCode_ROSn vào bảng  master_data_df\n",
    "master_data_df.merge(genericCode_ROSn, how='inner', on='Generic Code')\n",
    "\n",
    "# lọc giá trị dựa trên Generic Code xóa trùng lặp  Generic Code vì có nhiều mặt hàng\n",
    "Generic_Code = master_data_df.drop_duplicates(subset=['Generic Code'], keep='last')\n",
    "\n",
    "# gộp bảng Generic_Code vào bảng  genericCode_ROSn \n",
    "genericCode_ROSn_merge =genericCode_ROSn.merge(Generic_Code, how='inner', on='Generic Code')\n",
    "\n",
    "genericCode_ROSn['Brand'] = genericCode_ROSn_merge['Brand']\n",
    "genericCode_ROSn['Sub-Brand'] = genericCode_ROSn_merge['Sub-Brand']\n",
    "genericCode_ROSn['Category'] = genericCode_ROSn_merge['Category Type']\n",
    "\n",
    "genericCode_ROSn\n",
    "# master_data_df\n",
    "# genericCode_ROSn = genericCode_ROSn.replace(to_replace='', value='T', regex=True)\n"
   ]
  },
  {
   "cell_type": "code",
   "execution_count": null,
   "id": "b6800fa4",
   "metadata": {},
   "outputs": [],
   "source": [
    "# mở file PivotalSizeMaster để tìm  Min. Pivotal Sizes for ROSN\n",
    "pivotal_size_master_df = pd.read_csv('/home/minh/python_scripts/python-scripts/public/csv/PivotalSizeMaster.csv')\n",
    "\n",
    "# đổi tên cho trùng nhau\n",
    "pivotal_size_master_df.columns = pivotal_size_master_df.columns.str.replace('Store', 'Location Code')\n",
    "\n",
    "# vì dữ liệu 2 bảng k trùng nên phải replace dữ liệu cho trùng\n",
    "pivotal_size_master_df = pivotal_size_master_df.replace(to_replace='Arrow', value='ARR', regex=True)\n",
    "pivotal_size_master_df = pivotal_size_master_df.replace(to_replace='USPA', value='USP', regex=True)\n",
    "\n",
    "\n",
    "# gộp bảng lấy ra dữ liệu pivotal_size_master_merge  có trùng 3 'Brand','Sub-Brand','Category' \n",
    "pivotal_size_master_merge = genericCode_ROSn.merge(pivotal_size_master_df, how='left', on=['Brand','Sub-Brand','Category'])\n",
    "\n",
    "\n",
    "# kiểm tra nếu location bằng nhau thì lấy nếu gộp ở trên thì sẽ mất vì k kiểm tra đc Generic Code\n",
    "pivotal_size_master_merge = pivotal_size_master_merge[pivotal_size_master_merge['Location Code_x'] == pivotal_size_master_merge['Location Code_y']]\n",
    "\n",
    "# đổi tên về tên của bảng genericCode_ROSn\n",
    "pivotal_size_master_merge.columns = pivotal_size_master_merge.columns.str.replace('Location Code_x', 'Location Code')\n",
    "\n",
    "# lọc ra lữ liệu cuối cùng nhưng thằng nào mà k đủ dữ liệu sẽ chuyển về NaN\n",
    "genericCode_ROSn = genericCode_ROSn.merge(pivotal_size_master_merge, how='left', on=['Location Code','Generic Code'])\n",
    "\n",
    "# add genericCode_ROSn_v1\n",
    "genericCode_ROSn_v1 = pd.DataFrame()\n",
    "genericCode_ROSn_v1['Location Code'] = genericCode_ROSn['Location Code']\n",
    "genericCode_ROSn_v1['Generic Code'] = genericCode_ROSn['Generic Code']\n",
    "genericCode_ROSn_v1['Min. Pivotal Sizes for ROSN'] = genericCode_ROSn['Min. Pivotal Sizes for ROSN']\n",
    "genericCode_ROSn_v1\n",
    "\n",
    "# export excel\n",
    "genericCode_ROSn_v1.to_csv('genericCode_ROSn_v1.csv',index=False)"
   ]
  },
  {
   "cell_type": "code",
   "execution_count": null,
   "id": "dd159a0b",
   "metadata": {},
   "outputs": [],
   "source": []
  },
  {
   "cell_type": "code",
   "execution_count": null,
   "id": "186babaf",
   "metadata": {},
   "outputs": [],
   "source": []
  }
 ],
 "metadata": {
  "kernelspec": {
   "display_name": "Python 3",
   "language": "python",
   "name": "python3"
  },
  "language_info": {
   "codemirror_mode": {
    "name": "ipython",
    "version": 3
   },
   "file_extension": ".py",
   "mimetype": "text/x-python",
   "name": "python",
   "nbconvert_exporter": "python",
   "pygments_lexer": "ipython3",
   "version": "3.8.10 (tags/v3.8.10:3d8993a, May  3 2021, 11:48:03) [MSC v.1928 64 bit (AMD64)]"
  },
  "vscode": {
   "interpreter": {
    "hash": "83a1f9ece7e48c398c0694978ae35ef2127a5f2fc6bba6a6380742d2da8aba5f"
   }
  }
 },
 "nbformat": 4,
 "nbformat_minor": 5
}
